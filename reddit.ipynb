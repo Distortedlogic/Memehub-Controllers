{
 "cells": [
  {
   "cell_type": "code",
   "execution_count": 1,
   "id": "statistical-tribe",
   "metadata": {},
   "outputs": [
    {
     "name": "stderr",
     "output_type": "stream",
     "text": [
      "Version 7.1.0 of praw is outdated. Version 7.2.0 was released Wednesday February 24, 2021.\n"
     ]
    }
   ],
   "source": [
    "from src.reddit.scraper import RedditScrapper"
   ]
  },
  {
   "cell_type": "code",
   "execution_count": 2,
   "id": "better-temperature",
   "metadata": {},
   "outputs": [
    {
     "name": "stdout",
     "output_type": "stream",
     "text": [
      "dankmemes\n"
     ]
    },
    {
     "name": "stderr",
     "output_type": "stream",
     "text": [
      "1000it [00:15, 65.94it/s]\n",
      "1000it [00:16, 62.30it/s]\n",
      "1000it [01:40,  9.93it/s]\n",
      "1000it [01:24, 11.83it/s]\n",
      "1000it [01:52,  8.87it/s]\n",
      "1000it [02:17,  7.29it/s]\n",
      "1000it [00:48, 20.82it/s]\n",
      "1000it [02:20,  7.10it/s]\n",
      "1000it [01:03, 15.76it/s]\n",
      "1000it [01:21, 12.33it/s]\n",
      "1000it [01:47,  9.27it/s]\n",
      "1000it [01:06, 15.12it/s]\n",
      "1000it [01:27, 11.39it/s]\n",
      "1000it [01:20, 12.38it/s]\n",
      "1000it [00:56, 17.65it/s]\n",
      "1000it [01:29, 11.23it/s]\n",
      "1000it [01:30, 11.04it/s]\n",
      "1000it [01:26, 11.53it/s]\n",
      "1000it [01:53,  8.82it/s]\n",
      "1000it [01:13, 13.66it/s]\n",
      "1000it [02:10,  7.65it/s]\n",
      "1000it [01:57,  8.50it/s]\n",
      "1000it [00:45, 21.82it/s]\n",
      "213it [00:09, 23.27it/s]\n"
     ]
    },
    {
     "name": "stdout",
     "output_type": "stream",
     "text": [
      "memes\n"
     ]
    },
    {
     "name": "stderr",
     "output_type": "stream",
     "text": [
      "1000it [02:02,  8.16it/s]\n",
      "1000it [00:52, 19.08it/s]\n",
      "1000it [01:23, 12.04it/s]\n",
      "1000it [01:18, 12.75it/s]\n",
      "1000it [01:25, 11.64it/s]\n",
      "1000it [02:02,  8.18it/s]\n",
      "1000it [01:40, 10.00it/s]\n",
      "1000it [01:37, 10.30it/s]\n",
      "1000it [01:11, 13.99it/s]\n",
      "1000it [01:53,  8.83it/s]\n",
      "1000it [00:59, 16.93it/s]\n",
      "1000it [01:19, 12.57it/s]\n",
      "1000it [01:55,  8.69it/s]\n",
      "1000it [01:38, 10.19it/s]\n",
      "1000it [00:43, 22.99it/s]\n",
      "1000it [01:45,  9.51it/s]\n",
      "1000it [01:50,  9.02it/s]\n",
      "1000it [01:23, 11.95it/s]\n",
      "1000it [01:22, 12.06it/s]\n",
      "1000it [01:32, 10.81it/s]\n",
      "1000it [01:18, 12.81it/s]\n",
      "1000it [02:16,  7.33it/s]\n",
      "1000it [01:17, 12.97it/s]\n",
      "1000it [01:10, 14.27it/s]\n",
      "1000it [02:06,  7.90it/s]\n",
      "1000it [01:14, 13.34it/s]\n",
      "1000it [02:08,  7.81it/s]\n",
      "1000it [00:49, 20.40it/s]\n",
      "1000it [01:30, 11.10it/s]\n",
      "1000it [01:07, 14.79it/s]\n",
      "1000it [02:01,  8.23it/s]\n",
      "1000it [01:37, 10.24it/s]\n",
      "1000it [00:53, 18.57it/s]\n",
      "1000it [02:03,  8.08it/s]\n",
      "1000it [01:57,  8.53it/s]\n",
      "1000it [00:36, 27.18it/s]\n",
      "1000it [01:43,  9.68it/s]\n",
      "1000it [01:15, 13.32it/s]\n",
      "1000it [01:16, 13.02it/s]\n",
      "1000it [02:01,  8.20it/s]\n",
      "1000it [01:04, 15.59it/s]\n",
      "1000it [01:35, 10.46it/s]\n",
      "1000it [01:32, 10.82it/s]\n",
      "1000it [01:22, 12.17it/s]\n",
      "1000it [01:26, 11.53it/s]\n",
      "1000it [01:17, 12.98it/s]\n",
      "1000it [01:28, 11.26it/s]\n",
      "1000it [02:08,  7.76it/s]\n",
      "1000it [01:21, 12.32it/s]\n",
      "1000it [01:37, 10.23it/s]\n",
      "1000it [01:47,  9.32it/s]\n",
      "1000it [01:25, 11.74it/s]\n",
      "1000it [01:52,  8.90it/s]\n",
      "1000it [01:41,  9.90it/s]\n",
      "1000it [01:49,  9.13it/s]\n",
      "1000it [01:36, 10.37it/s]\n",
      "1000it [01:23, 11.94it/s]\n",
      "1000it [01:56,  8.56it/s]\n",
      "1000it [02:50,  5.87it/s]\n",
      "1000it [00:38, 25.94it/s]\n",
      "1000it [01:28, 11.33it/s]\n",
      "1000it [01:20, 12.37it/s]\n",
      "1000it [01:26, 11.59it/s]\n",
      "1000it [01:50,  9.07it/s]\n",
      "1000it [01:24, 11.88it/s]\n",
      "1000it [02:16,  7.33it/s]\n",
      "1000it [01:00, 16.59it/s]\n",
      "1000it [02:15,  7.38it/s]\n",
      "1000it [01:00, 16.51it/s]\n",
      "1000it [02:18,  7.21it/s]\n",
      "1000it [00:52, 18.88it/s]\n",
      "1000it [01:24, 11.82it/s]\n",
      "1000it [01:54,  8.75it/s]\n",
      "1000it [01:08, 14.61it/s]\n",
      "1000it [02:08,  7.81it/s]\n",
      "1000it [01:05, 15.18it/s]\n",
      "1000it [01:37, 10.26it/s]\n",
      "1000it [01:51,  9.01it/s]\n",
      "1000it [01:28, 11.30it/s]\n",
      "1000it [01:35, 10.46it/s]\n",
      "1000it [02:22,  6.99it/s]\n",
      "1000it [01:37, 10.25it/s]\n",
      "1000it [01:55,  8.69it/s]\n",
      "1000it [01:26, 11.59it/s]\n",
      "877it [01:30,  9.66it/s]\n"
     ]
    }
   ],
   "source": [
    "RedditScrapper().scrape_reddit_memes_backwards(verbose=True)"
   ]
  },
  {
   "cell_type": "code",
   "execution_count": null,
   "id": "protective-sessions",
   "metadata": {},
   "outputs": [],
   "source": [
    "RedditScrapper().scrape_reddit_memes(verbose=True)"
   ]
  },
  {
   "cell_type": "code",
   "execution_count": null,
   "id": "requested-texture",
   "metadata": {},
   "outputs": [],
   "source": []
  }
 ],
 "metadata": {
  "kernelspec": {
   "display_name": "Python 3",
   "language": "python",
   "name": "python3"
  },
  "language_info": {
   "codemirror_mode": {
    "name": "ipython",
    "version": 3
   },
   "file_extension": ".py",
   "mimetype": "text/x-python",
   "name": "python",
   "nbconvert_exporter": "python",
   "pygments_lexer": "ipython3",
   "version": "3.8.6"
  }
 },
 "nbformat": 4,
 "nbformat_minor": 5
}
