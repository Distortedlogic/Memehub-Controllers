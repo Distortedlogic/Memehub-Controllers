{
 "cells": [
  {
   "cell_type": "code",
   "execution_count": 1,
   "id": "suspended-naples",
   "metadata": {},
   "outputs": [
    {
     "name": "stderr",
     "output_type": "stream",
     "text": [
      "Version 7.1.0 of praw is outdated. Version 7.1.4 was released Sunday February 07, 2021.\n"
     ]
    }
   ],
   "source": [
    "from scripts.build import build_backwards"
   ]
  },
  {
   "cell_type": "code",
   "execution_count": null,
   "id": "identified-socket",
   "metadata": {},
   "outputs": [
    {
     "name": "stdout",
     "output_type": "stream",
     "text": [
      "dankmemes\n"
     ]
    },
    {
     "name": "stderr",
     "output_type": "stream",
     "text": [
      "1000it [02:34,  6.46it/s]\n",
      "1000it [04:04,  4.08it/s]\n",
      "1000it [03:22,  4.93it/s]\n",
      "1000it [03:38,  4.58it/s]\n",
      "1000it [03:27,  4.81it/s]\n",
      "1000it [03:59,  4.18it/s]\n",
      "1000it [03:21,  4.97it/s]\n",
      "1000it [03:33,  4.68it/s]\n",
      "1000it [04:07,  4.04it/s]\n",
      "1000it [04:10,  3.99it/s]\n",
      "1000it [04:04,  4.08it/s]\n",
      "1000it [03:45,  4.44it/s]\n",
      "1000it [03:32,  4.70it/s]\n",
      "99it [00:20,  4.51it/s]"
     ]
    }
   ],
   "source": [
    "build_backwards()"
   ]
  },
  {
   "cell_type": "code",
   "execution_count": null,
   "id": "legislative-campus",
   "metadata": {},
   "outputs": [],
   "source": []
  }
 ],
 "metadata": {
  "kernelspec": {
   "display_name": "Python 3",
   "language": "python",
   "name": "python3"
  },
  "language_info": {
   "codemirror_mode": {
    "name": "ipython",
    "version": 3
   },
   "file_extension": ".py",
   "mimetype": "text/x-python",
   "name": "python",
   "nbconvert_exporter": "python",
   "pygments_lexer": "ipython3",
   "version": "3.8.6"
  }
 },
 "nbformat": 4,
 "nbformat_minor": 5
}
