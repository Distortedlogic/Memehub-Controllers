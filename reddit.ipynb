{
 "cells": [
  {
   "cell_type": "code",
   "execution_count": 1,
   "id": "olympic-plain",
   "metadata": {},
   "outputs": [
    {
     "name": "stderr",
     "output_type": "stream",
     "text": [
      "Version 7.1.0 of praw is outdated. Version 7.2.0 was released Wednesday February 24, 2021.\n"
     ]
    }
   ],
   "source": [
    "from scripts.build import build_backwards"
   ]
  },
  {
   "cell_type": "code",
   "execution_count": null,
   "id": "touched-census",
   "metadata": {},
   "outputs": [
    {
     "name": "stdout",
     "output_type": "stream",
     "text": [
      "dankmemes\n"
     ]
    },
    {
     "name": "stderr",
     "output_type": "stream",
     "text": [
      "1000it [00:15, 65.42it/s]\n",
      "1000it [00:14, 67.77it/s]\n",
      "1000it [00:56, 17.67it/s]\n",
      "1000it [01:29, 11.12it/s]\n",
      "1000it [01:33, 10.64it/s]\n",
      "1000it [01:25, 11.71it/s]\n",
      "1000it [01:07, 14.86it/s]\n"
     ]
    }
   ],
   "source": [
    "build_backwards()"
   ]
  },
  {
   "cell_type": "code",
   "execution_count": null,
   "id": "critical-blocking",
   "metadata": {},
   "outputs": [],
   "source": []
  }
 ],
 "metadata": {
  "kernelspec": {
   "display_name": "Python 3",
   "language": "python",
   "name": "python3"
  },
  "language_info": {
   "codemirror_mode": {
    "name": "ipython",
    "version": 3
   },
   "file_extension": ".py",
   "mimetype": "text/x-python",
   "name": "python",
   "nbconvert_exporter": "python",
   "pygments_lexer": "ipython3",
   "version": "3.8.6"
  }
 },
 "nbformat": 4,
 "nbformat_minor": 5
}
