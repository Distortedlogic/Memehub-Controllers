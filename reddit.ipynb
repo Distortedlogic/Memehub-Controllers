{
 "cells": [
  {
   "cell_type": "code",
   "execution_count": 1,
   "id": "iraqi-drama",
   "metadata": {},
   "outputs": [
    {
     "name": "stderr",
     "output_type": "stream",
     "text": [
      "Version 7.1.0 of praw is outdated. Version 7.2.0 was released Wednesday February 24, 2021.\n"
     ]
    }
   ],
   "source": [
    "from src.reddit.scraper import RedditScrapper"
   ]
  },
  {
   "cell_type": "code",
   "execution_count": null,
   "id": "forty-hamburg",
   "metadata": {},
   "outputs": [
    {
     "name": "stdout",
     "output_type": "stream",
     "text": [
      "dankmemes\n"
     ]
    },
    {
     "name": "stderr",
     "output_type": "stream",
     "text": [
      "1000it [00:18, 53.80it/s]\n",
      "1000it [00:42, 23.46it/s]\n",
      "1000it [01:31, 10.95it/s]\n",
      "1000it [02:33,  6.51it/s]\n",
      "1000it [02:04,  8.02it/s]\n",
      "1000it [01:38, 10.13it/s]\n",
      "1000it [01:53,  8.82it/s]\n",
      "1000it [02:12,  7.54it/s]\n",
      "1000it [01:37, 10.27it/s]\n",
      "1000it [02:50,  5.87it/s]\n",
      "1000it [02:05,  7.97it/s]\n",
      "1000it [01:51,  8.94it/s]\n",
      "1000it [01:38, 10.15it/s]\n",
      "1000it [01:53,  8.79it/s]\n",
      "1000it [02:35,  6.43it/s]\n",
      "1000it [00:50, 19.93it/s]\n",
      "1000it [02:11,  7.59it/s]\n",
      "1000it [01:37, 10.22it/s]\n",
      "1000it [02:30,  6.65it/s]\n",
      "1000it [01:30, 11.09it/s]\n",
      "1000it [02:11,  7.58it/s]\n",
      "1000it [01:50,  9.06it/s]\n",
      "1000it [01:39, 10.06it/s]\n",
      "1000it [01:50,  9.08it/s]\n",
      "1000it [01:55,  8.69it/s]\n",
      "1000it [02:10,  7.65it/s]\n",
      "1000it [01:45,  9.45it/s]\n",
      "1000it [01:48,  9.19it/s]\n",
      "1000it [01:50,  9.02it/s]\n",
      "1000it [02:13,  7.49it/s]\n",
      "1000it [01:35, 10.48it/s]\n",
      "1000it [02:34,  6.46it/s]\n",
      "1000it [02:05,  7.97it/s]\n",
      "1000it [01:28, 11.25it/s]\n",
      "1000it [02:33,  6.51it/s]\n",
      "1000it [01:40,  9.93it/s]\n",
      "1000it [02:42,  6.17it/s]\n",
      "1000it [02:18,  7.24it/s]\n",
      "1000it [01:34, 10.53it/s]\n",
      "1000it [02:10,  7.63it/s]\n",
      "1000it [01:59,  8.38it/s]\n",
      "1000it [02:02,  8.15it/s]\n",
      "1000it [01:53,  8.85it/s]\n",
      "1000it [02:10,  7.66it/s]\n",
      "1000it [02:09,  7.70it/s]\n",
      "1000it [01:29, 11.18it/s]\n",
      "1000it [02:10,  7.64it/s]\n",
      "1000it [01:46,  9.43it/s]\n",
      "1000it [01:36, 10.35it/s]\n",
      "1000it [01:54,  8.75it/s]\n",
      "1000it [02:10,  7.66it/s]\n",
      "1000it [01:46,  9.42it/s]\n",
      "1000it [02:07,  7.85it/s]\n",
      "1000it [02:11,  7.62it/s]\n",
      "1000it [01:48,  9.25it/s]\n",
      "1000it [02:15,  7.35it/s]\n",
      "1000it [01:35, 10.45it/s]\n",
      "1000it [02:11,  7.62it/s]\n",
      "1000it [01:35, 10.50it/s]\n",
      "1000it [01:53,  8.84it/s]\n",
      "1000it [01:54,  8.74it/s]\n",
      "1000it [02:12,  7.54it/s]\n",
      "1000it [01:36, 10.39it/s]\n",
      "1000it [02:30,  6.66it/s]\n",
      "1000it [02:08,  7.77it/s]\n",
      "1000it [02:03,  8.10it/s]\n",
      "1000it [02:12,  7.52it/s]\n",
      "1000it [01:02, 15.97it/s]\n",
      "1000it [01:55,  8.64it/s]\n",
      "1000it [01:52,  8.90it/s]\n",
      "1000it [02:10,  7.64it/s]\n",
      "1000it [01:50,  9.06it/s]\n",
      "1000it [01:39, 10.05it/s]\n",
      "1000it [01:50,  9.05it/s]\n",
      "1000it [01:54,  8.76it/s]\n",
      "1000it [02:10,  7.66it/s]\n",
      "1000it [01:50,  9.05it/s]\n",
      "1000it [01:38, 10.19it/s]\n",
      "1000it [02:11,  7.63it/s]\n",
      "1000it [02:21,  7.08it/s]\n",
      "1000it [01:51,  8.96it/s]\n",
      "1000it [02:32,  6.55it/s]\n",
      "364it [00:23, 15.73it/s]\n"
     ]
    },
    {
     "name": "stdout",
     "output_type": "stream",
     "text": [
      "memes\n"
     ]
    },
    {
     "name": "stderr",
     "output_type": "stream",
     "text": [
      "1000it [01:33, 10.75it/s]\n",
      "1000it [02:01,  8.25it/s]\n",
      "1000it [02:10,  7.68it/s]\n",
      "1000it [01:30, 11.06it/s]\n",
      "1000it [01:42,  9.80it/s]\n",
      "1000it [01:51,  8.98it/s]\n",
      "1000it [02:10,  7.64it/s]\n",
      "1000it [01:51,  8.96it/s]\n",
      "1000it [01:49,  9.14it/s]\n",
      "1000it [03:09,  5.27it/s]\n",
      "1000it [02:07,  7.87it/s]\n",
      "1000it [02:10,  7.67it/s]\n",
      "1000it [01:19, 12.64it/s]\n",
      "1000it [01:49,  9.15it/s]\n",
      "1000it [02:32,  6.56it/s]\n",
      "1000it [01:54,  8.77it/s]\n",
      "1000it [01:55,  8.68it/s]\n",
      "1000it [01:30, 11.08it/s]\n",
      "1000it [01:56,  8.55it/s]\n",
      "1000it [02:32,  6.54it/s]\n",
      "1000it [01:13, 13.53it/s]\n",
      "1000it [02:10,  7.68it/s]\n",
      "1000it [01:50,  9.06it/s]\n",
      "1000it [01:52,  8.90it/s]\n",
      "1000it [02:25,  6.87it/s]\n",
      "1000it [02:09,  7.70it/s]\n",
      "1000it [01:10, 14.14it/s]\n",
      "1000it [02:01,  8.20it/s]\n",
      "1000it [01:37, 10.25it/s]\n",
      "1000it [02:12,  7.55it/s]\n",
      "1000it [01:33, 10.66it/s]\n",
      "1000it [02:07,  7.86it/s]\n",
      "1000it [02:15,  7.40it/s]\n"
     ]
    }
   ],
   "source": [
    "RedditScrapper().scrape_reddit_memes_backwards(verbose=True)"
   ]
  },
  {
   "cell_type": "code",
   "execution_count": null,
   "id": "wicked-finland",
   "metadata": {},
   "outputs": [],
   "source": [
    "RedditScrapper().scrape_reddit_memes(verbose=True)"
   ]
  },
  {
   "cell_type": "code",
   "execution_count": null,
   "id": "filled-typing",
   "metadata": {},
   "outputs": [],
   "source": []
  }
 ],
 "metadata": {
  "kernelspec": {
   "display_name": "Python 3",
   "language": "python",
   "name": "python3"
  },
  "language_info": {
   "codemirror_mode": {
    "name": "ipython",
    "version": 3
   },
   "file_extension": ".py",
   "mimetype": "text/x-python",
   "name": "python",
   "nbconvert_exporter": "python",
   "pygments_lexer": "ipython3",
   "version": "3.8.6"
  }
 },
 "nbformat": 4,
 "nbformat_minor": 5
}
