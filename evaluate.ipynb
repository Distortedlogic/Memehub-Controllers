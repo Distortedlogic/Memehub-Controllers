{
 "cells": [
  {
   "cell_type": "code",
   "execution_count": 1,
   "id": "electrical-species",
   "metadata": {},
   "outputs": [],
   "source": [
    "from src.stonks.market import StonkMarket"
   ]
  },
  {
   "cell_type": "code",
   "execution_count": 2,
   "id": "related-samoa",
   "metadata": {},
   "outputs": [],
   "source": [
    "stonks=StonkMarket()"
   ]
  },
  {
   "cell_type": "code",
   "execution_count": 3,
   "id": "artistic-ghost",
   "metadata": {},
   "outputs": [
    {
     "data": {
      "text/html": [
       "<div>\n",
       "<style scoped>\n",
       "    .dataframe tbody tr th:only-of-type {\n",
       "        vertical-align: middle;\n",
       "    }\n",
       "\n",
       "    .dataframe tbody tr th {\n",
       "        vertical-align: top;\n",
       "    }\n",
       "\n",
       "    .dataframe thead th {\n",
       "        text-align: right;\n",
       "    }\n",
       "</style>\n",
       "<table border=\"1\" class=\"dataframe\">\n",
       "  <thead>\n",
       "    <tr style=\"text-align: right;\">\n",
       "      <th></th>\n",
       "      <th>num_stonks</th>\n",
       "      <th>num_not_template</th>\n",
       "      <th>total_official</th>\n",
       "      <th>num_filled</th>\n",
       "      <th>percent_done</th>\n",
       "    </tr>\n",
       "  </thead>\n",
       "  <tbody>\n",
       "    <tr>\n",
       "      <th>0</th>\n",
       "      <td>8400</td>\n",
       "      <td>5178</td>\n",
       "      <td>13843</td>\n",
       "      <td>13812</td>\n",
       "      <td>0.998</td>\n",
       "    </tr>\n",
       "  </tbody>\n",
       "</table>\n",
       "</div>"
      ],
      "text/plain": [
       "   num_stonks  num_not_template  total_official  num_filled  percent_done\n",
       "0        8400              5178           13843       13812         0.998"
      ]
     },
     "metadata": {},
     "output_type": "display_data"
    },
    {
     "data": {
      "text/html": [
       "<div>\n",
       "<style scoped>\n",
       "    .dataframe tbody tr th:only-of-type {\n",
       "        vertical-align: middle;\n",
       "    }\n",
       "\n",
       "    .dataframe tbody tr th {\n",
       "        vertical-align: top;\n",
       "    }\n",
       "\n",
       "    .dataframe thead th {\n",
       "        text-align: right;\n",
       "    }\n",
       "</style>\n",
       "<table border=\"1\" class=\"dataframe\">\n",
       "  <thead>\n",
       "    <tr style=\"text-align: right;\">\n",
       "      <th></th>\n",
       "      <th>num_not_template_wrong</th>\n",
       "      <th>num_nt_wrong_percent</th>\n",
       "      <th>true_positives</th>\n",
       "      <th>tp_percent</th>\n",
       "      <th>false_negatives</th>\n",
       "      <th>fn_percent</th>\n",
       "    </tr>\n",
       "  </thead>\n",
       "  <tbody>\n",
       "    <tr>\n",
       "      <th>0</th>\n",
       "      <td>3874</td>\n",
       "      <td>0.748</td>\n",
       "      <td>8063</td>\n",
       "      <td>0.96</td>\n",
       "      <td>91</td>\n",
       "      <td>0.011</td>\n",
       "    </tr>\n",
       "  </tbody>\n",
       "</table>\n",
       "</div>"
      ],
      "text/plain": [
       "   num_not_template_wrong  num_nt_wrong_percent  true_positives  tp_percent  \\\n",
       "0                    3874                 0.748            8063        0.96   \n",
       "\n",
       "   false_negatives  fn_percent  \n",
       "0               91       0.011  "
      ]
     },
     "metadata": {},
     "output_type": "display_data"
    },
    {
     "data": {
      "text/html": [
       "<div>\n",
       "<style scoped>\n",
       "    .dataframe tbody tr th:only-of-type {\n",
       "        vertical-align: middle;\n",
       "    }\n",
       "\n",
       "    .dataframe tbody tr th {\n",
       "        vertical-align: top;\n",
       "    }\n",
       "\n",
       "    .dataframe thead th {\n",
       "        text-align: right;\n",
       "    }\n",
       "</style>\n",
       "<table border=\"1\" class=\"dataframe\">\n",
       "  <thead>\n",
       "    <tr style=\"text-align: right;\">\n",
       "      <th></th>\n",
       "      <th>meme_clf_wrong</th>\n",
       "      <th>wrong_right</th>\n",
       "      <th>wr_percent</th>\n",
       "      <th>wrong_wrong</th>\n",
       "      <th>ww_percent</th>\n",
       "    </tr>\n",
       "  </thead>\n",
       "  <tbody>\n",
       "    <tr>\n",
       "      <th>0</th>\n",
       "      <td>225</td>\n",
       "      <td>175</td>\n",
       "      <td>0.404</td>\n",
       "      <td>50</td>\n",
       "      <td>0.404</td>\n",
       "    </tr>\n",
       "  </tbody>\n",
       "</table>\n",
       "</div>"
      ],
      "text/plain": [
       "   meme_clf_wrong  wrong_right  wr_percent  wrong_wrong  ww_percent\n",
       "0             225          175       0.404           50       0.404"
      ]
     },
     "metadata": {},
     "output_type": "display_data"
    }
   ],
   "source": [
    "stonks.evaluate()"
   ]
  },
  {
   "cell_type": "code",
   "execution_count": null,
   "id": "natural-vegetable",
   "metadata": {},
   "outputs": [],
   "source": []
  }
 ],
 "metadata": {
  "kernelspec": {
   "display_name": "Python 3",
   "language": "python",
   "name": "python3"
  },
  "language_info": {
   "codemirror_mode": {
    "name": "ipython",
    "version": 3
   },
   "file_extension": ".py",
   "mimetype": "text/x-python",
   "name": "python",
   "nbconvert_exporter": "python",
   "pygments_lexer": "ipython3",
   "version": "3.8.6"
  }
 },
 "nbformat": 4,
 "nbformat_minor": 5
}
