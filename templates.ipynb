{
 "cells": [
  {
   "cell_type": "code",
   "execution_count": 1,
   "metadata": {},
   "outputs": [],
   "source": [
    "from src.databuilders.imgflip_templates import build_template_db, download_blanks, blanks_to_aws, miss_match"
   ]
  },
  {
   "cell_type": "code",
   "execution_count": null,
   "metadata": {},
   "outputs": [],
   "source": [
    "build_template_db()"
   ]
  },
  {
   "cell_type": "code",
   "execution_count": 2,
   "metadata": {},
   "outputs": [
    {
     "name": "stdout",
     "output_type": "stream",
     "text": [
      "['success kid', 'floating boy chasing running boy', 'what if you wanted to go to heaven', 'shut up and take my money fry', 'thanos what did it cost', 'dog vs werewolf', 'but thats none of my business', 'persian cat room guardian', 'yeah this is big brain time', 'thomas had never seen such bullshit before', 'i want you', 'genie rules meme', 'say the line bart! simpsons', 'idiot skull', 'boy and girl texting', 'bad pun dog', 'if those kids could read theyd be very upset', 'clown applying makeup', 'x x everywhere', 'knights of the round table', 'joaquin phoenix joker car', 'x all the y', 'overly attached girlfriend', 'say what again', 'you cant defeat me', 'confused screaming', 'scooby doo mask reveal', 'moe throws barney', 'communist bugs bunny', 'types of headaches meme', 'weak vs strong spongebob', 'mike wazowski trying to explain', 'straining kid', 'evil kermit', 'me explaining to my mom', 'bronze medal', 'yugioh card draw', 'uno draw 25 cards', 'sad linus', 'thanos perfectly balanced', 'stonks', 'dw sign wont stop me because i cant read', 'its finally over', 'you guys are getting paid template', 'black guy disappearing', 'meg family guy better than me', 'jason momoa henry cavill meme', 'dabbing dude', 'see nobody cares', 'stop it patrick! youre scaring him!', 'finally', 'this is brilliant but i like this', 'grandma finds the internet', 'obi wan kenobi', 'thanos impossible', 'sully wazowski', 'guy holding cardboard sign', 'thats a paddlin', 'yall got any more of', 'chocolate spongebob', 'ill have you know spongebob', 'krusty krab vs chum bucket', 'change my mind', 'lisa simpsons presentation', 'and i took that personally', 'finding neverland', 'trumpet boy', 'spongebob diapers meme', 'borat', 'jack sparrow being chased', 'kermit window', 'but it was me dio', 'average blank fan vs average blank enjoyer', 'spongegar', 'my time has come', 'the loudest sounds on earth', 'get in loser', 'blank nut button', 'soldier protecting sleeping child', 'you wouldnt get it', 'captain picard facepalm', 'this is fine', 'hey you going to sleep', 'kevin hart', 'annoyed bird', 'relief', 'mr krabs blur meme', 'unhelpful high school teacher', 'sure grandma lets get you to bed', 'no i dont think i will', 'the cooler daniel', 'bad luck brian', 'guy with sand in the hands of despair', 'you know im something of a scientist myself', 'open the gate a little', 'here it come meme', 'homer simpsons back fat', 'elmo fire', 'admiral ackbar', 'snape', 'perfection', 'buff doge vs crying cheems', 'adios', 'ew i stepped in shit', 'ermahgerd berks', 'trust nobody not even yourself', 'crying peter parker', 'math is math', 'rick and carl', 'maybe i am a monster', 'i find your lack of faith disturbing', 'panik kalm panik', 'salt bae', 'squidward', 'dr evil', 'do you want ants archer', 'crying michael jordan', 'pentagon hexagon octagon', 'pretending to be happy hiding crying behind a mask', 'red pill blue pill', 'homer disappears into bush', 'elmo nuclear explosion', 'confused unga bunga', 'third world success kid', 'dad joke dog', 'pointing mirror guy', 'a train hitting a school bus', 'satisfied seal', 'thor is he though', 'finally! a worthy opponent!', 'disaster girl', 'laughing wolf', 'lady screams at cat', 'i fear no man', 'patrick smart dumb', 'all my homies', 'fallout hold up', 'jack nicholson the shining snow', 'they dont know', 'what gives people feelings of power', 'excuse me wtf blank template', 'surprised pikachu', 'call an ambulance but not for me', 'sad keanu', 'trying to calculate how much sleep i can get', 'scared kid', 'visible confusion', 'philosoraptor', 'god', 'npc', 'skinner out of touch', 'ppap', 'the office handshake', 'baby yoda', 'turn up the volume', 'tom cruise laugh', 'phoebe joey', 'buddy christ', 'drake noyes', 'the floor is', 'steve harvey laughing serious', 'so you have chosen death', 'too damn high', 'rainbow six - fuze the hostage', 'the office bankruptcy', 'joe exotic financially recover', 'spongebob burning paper', 'you guys always act like youre better than me', 'madea with gun', 'anime girl hiding from terminator', 'its free real estate', 'good fellas hilarious', 'domino effect', 'its been 84 years', 'advice dog', 'blankie the shocked dog', 'anthony adams rubbing hands', 'spongebob rainbow', 'leonardo dicaprio pointing', 'running away balloon', 'epic handshake', 'and thats a fact', 'im the dumbest man alive', 'dont you squidward', 'oh no! anyway', 'trojan horse', 'angela scared dwight', 'third world skeptical kid', 'prisoners blank', 'i believe in supremacy', 'peter griffin news', 'dwight schrute', 'imagination spongebob', 'mr bean waiting', 'allow us to introduce ourselves', 'yo dawg heard you', 'spongebob ight imma head out', 'modern problems', 'man giving sword to larger man', 'grumpy cat', 'guy pouring olive oil on the salad', 'highdrunk guy', 'srgrafo dude wtf', 'the what', 'i bet hes thinking about other women', 'i sleep real shit', 'captain america elevator', 'first world problems', 'metronome', 'impostor of the vent', 'simpsons so far', 'ancient aliens', 'sleepy donald duck in bed', 'you have no power here', 'simba shadowy place', 'spongebob strong', 'karate kyle', 'confused gandalf', 'spiderman peter parker', 'the mandalorian', 'let me in', 'marvel civil war', 'doge', 'lisa simpson coffee that x shit', 'jack sparrow you have heard of me', 'the scroll of truth', 'i should buy a boat cat', 'blank kermit waiting', 'my heart blank', 'mocking spongebob', 'futurama fry', 'sweating bullets', 'dont make me tap the sign', 'who killed hannibal', 'for christmas i want a dragon', 'high five drown', 'amateurs', 'black girl wat', 'kim jong un sad', 'billys fbi agent', 'dinkleberg', 'undertaker', 'i dont want to play with you anymore', 'sarcastically surprised kirk', 'spiderman glasses', 'one does not simply', 'aaaaand its gone', 'gordon ramsay some good food', 'and everybody loses their minds', 'calculating meme', 'i wish all the x a very pleasant evening', 'the boiler room of hell', 'why are you gay', 'jim halpert explains', 'squidward window', 'the rock driving', 'every day i wake up', 'kill yourself guy', 'this little manuever is gonna cost us 51 years', 'note passing', 'dj khaled suffering from success meme', 'skeleton waiting', 'star wars yoda', 'gollum', 'skinner pathetic', 'pimples zero!', 'wolverine remember', 'ptsd chihuahua', 'disappointed black guy', 'arthur fist', 'spiderman laugh', 'mugatu so hot right now', 'mel gibson and jesus christ', 'gang bang', 'elmo cocaine', 'so anyway i started blasting', 'boardroom meeting suggestion', 'well boys we did it blank is no more', 'star wars no', 'pink guy vs bane', 'bernie sanders reaction nuked', 'batman slapping robin', 'sparta leonidas', 'where banana', 'inhaling seagull', 'the silent protector', 'what if i told you', 'steve buscemi fellow kids', 'this morgan freeman', 'thanos infinity stones', 'charlie day', 'aint nobody got time for that', 'nemo seagulls mine', 'who wants to be a millionaire', 'expanding brain', 'ill just wait here', 'unsettled tom', 'spiderman', 'flex tape', 'car salesman slaps roof of car', 'young thug and lil durk troubleshooting', 'i am speed', 'bernie sanders once again asking', 'patrick not my wallet', 'two buttons', 'black guy confused', 'soldier jump spetznaz', 'why cant you just be normal', 'girl running', 'always has been', 'consuela', 'life is good but it can be better', 'leonardo dicaprio cheers', 'stonks helth', 'laughing leo', 'ah shit here we go again', 'laughing men in suits', 'bernie mittens', 'trump interview', 'twisted tea', 'lumbergh', 'aww did someone get addicted to crack', 'well yes but actually no', 'spongebob hype stand', 'this is where id put my trophy if i had one', 'mario bros views', 'inception', 'joey from friends', 'is for me', 'omg karen', 'afraid to ask andy', 'whats my purpose - butter robot', 'sue sylvester', 'mr bean copying', 'cool cat stroll', 'money money', 'angry pakistani fan', 'we ride at dawn bitches', 'oprah you get a', 'virgin vs chad', '1990s first world problems', 'la noire press x to doubt', 'fancy pooh', 'feels good man', 'bro not cool', 'grant gustin over grave', 'cross eyed spongebob', 'assassination chain', 'nobody is born cool', 'monkey looking away', 'daring today arent we squidward', 'second breakfast', 'it aint much but its honest work', 'look at me', 'and just like that', 'the future world if', 'friendship ended', 'suprised patrick', 'bike fall', 'anime wall punch', 'this is worthless', 'i do one push-up', 'i am the senate', 'pepperidge farm remembers', 'back in my day', 'shrek for five minutes', 'not stonks', 'spongebob money', 'bird box', 'ptsd clarinet boy', 'am i a joke to you', 'bro explaining', 'i am inevitable', 'all right then keep your secrets', 'grim reaper knocking door', 'chuck norris', 'theyre the same picture', 'squidward chair', 'kombucha girl', 'angry chef gordon ramsay', 'brace yourself', 'nuclear explosion', 'listen here you little shit bird', 'whatcha got there', 'wolf of wallstreet', 'gru gun', 'mother ignoring kid drowning in a pool', 'donald trump', 'spongebob waiting', 'blackjack and hookers', 'scumbag steve', 'alright gentlemen we need a new idea', 'chuckles im in danger', 'oh boy here i go killing again', 'left exit 12 off ramp', 'eddie murphy thinking', 'when x just right', 'grus plan', 'how tough are you', 'put it somewhere else patrick', 'minor mistake marvin', 'jojos walk', 'you guys are getting paid', 'triggered feminist', 'angry turkish man playing cards meme', 'first time', 'willy wonka blank', 'rick and morty-extra steps', 'the most interesting man in the world']\n"
     ]
    },
    {
     "name": "stderr",
     "output_type": "stream",
     "text": [
      "100%|████████████████████████████████████████████████████████████████████████████████████████████████| 569/569 [00:26<00:00, 21.13it/s]"
     ]
    },
    {
     "name": "stdout",
     "output_type": "stream",
     "text": [
      "569/569\n"
     ]
    },
    {
     "name": "stderr",
     "output_type": "stream",
     "text": [
      "\n"
     ]
    }
   ],
   "source": [
    "download_blanks()"
   ]
  },
  {
   "cell_type": "code",
   "execution_count": 3,
   "metadata": {},
   "outputs": [
    {
     "data": {
      "text/html": [
       "<div>\n",
       "<style scoped>\n",
       "    .dataframe tbody tr th:only-of-type {\n",
       "        vertical-align: middle;\n",
       "    }\n",
       "\n",
       "    .dataframe tbody tr th {\n",
       "        vertical-align: top;\n",
       "    }\n",
       "\n",
       "    .dataframe thead th {\n",
       "        text-align: right;\n",
       "    }\n",
       "</style>\n",
       "<table border=\"1\" class=\"dataframe\">\n",
       "  <thead>\n",
       "    <tr style=\"text-align: right;\">\n",
       "      <th></th>\n",
       "      <th>id</th>\n",
       "      <th>name</th>\n",
       "      <th>page</th>\n",
       "      <th>blank_url</th>\n",
       "    </tr>\n",
       "  </thead>\n",
       "  <tbody>\n",
       "  </tbody>\n",
       "</table>\n",
       "</div>"
      ],
      "text/plain": [
       "Empty DataFrame\n",
       "Columns: [id, name, page, blank_url]\n",
       "Index: []"
      ]
     },
     "metadata": {},
     "output_type": "display_data"
    }
   ],
   "source": [
    "miss_match()"
   ]
  },
  {
   "cell_type": "code",
   "execution_count": null,
   "metadata": {},
   "outputs": [],
   "source": [
    "blanks_to_aws()"
   ]
  },
  {
   "cell_type": "code",
   "execution_count": null,
   "metadata": {},
   "outputs": [],
   "source": []
  }
 ],
 "metadata": {
  "kernelspec": {
   "display_name": "mh",
   "language": "python",
   "name": "mh"
  },
  "language_info": {
   "codemirror_mode": {
    "name": "ipython",
    "version": 3
   },
   "file_extension": ".py",
   "mimetype": "text/x-python",
   "name": "python",
   "nbconvert_exporter": "python",
   "pygments_lexer": "ipython3",
   "version": "3.8.5"
  }
 },
 "nbformat": 4,
 "nbformat_minor": 4
}
