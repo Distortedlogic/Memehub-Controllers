{
 "cells": [
  {
   "cell_type": "code",
   "execution_count": 1,
   "metadata": {},
   "outputs": [],
   "source": [
    "from src.trainers.databuilders.imagenet import imagenet_db_build"
   ]
  },
  {
   "cell_type": "code",
   "execution_count": 2,
   "metadata": {},
   "outputs": [
    {
     "name": "stdout",
     "output_type": "stream",
     "text": [
      "b'\\n<!DOCTYPE html PUBLIC \"-//W3C//DTD HTML 4.01 Transitional//EN\"\\n   \"http://www.w3.org/TR/html4/loose.dtd\">\\n\\n<html lang=\"en\">\\n<head>\\n<meta http-equiv=\"Content-Type\" content=\"text/html; charset=utf-8\">\\n<title>ImageNet</title>\\n<script src=\"https://www.google.com/recaptcha/api.js\"></script>\\n<link rel=\"stylesheet\" type=\"text/css\" href=\"/static_files/style.css\">\\n<link rel=\"shortcut icon\" href=\"/static_files/favicon.ico\">\\n<link rel=\"icon\" href=\"/static_files/favicon.png\" type=\"image/png\">\\n<script language=\"JavaScript\" src=\"/static_files/index_files/dropdownmenu.js\">\\n</script>\\n<script type=\"text/javascript\" language=\"javascript\" src=\"/gpviewui/gpviewui.nocache.js\"></script>\\n<link type=\"text/css\" rel=\"stylesheet\" href=\"/GPViewUI.css\">\\n<script type=\"text/javascript\"> function showemail(d,u)\\n{\\n  var email = u + \"@\" + d;\\n  document.write(\"<a href=mailto:\"+email+\">\"+email+\"</a>\");\\n}\\n</script>\\n<script type=\"text/javascript\"\\n  src=\"http://cdn.mathjax.org/mathjax/latest/MathJax.js?config=TeX-AMS-MML_HTMLorMML\">\\n  MathJax.Hub.Config({\\n    extensions: [\"tex2jax.js\"],\\n    \"HTML-CSS\": { scale: 100 }\\n  });\\n</script>\\n<script type=\"text/x-mathjax-config\">\\n    MathJax.Hub.Config({tex2jax: {inlineMath: [[\\'$\\',\\'$\\'], [\\'\\\\\\\\(\\',\\'\\\\\\\\)\\']]}});\\n</script>\\n<script type=\"text/javascript\"\\n  src=\"http://cdn.mathjax.org/mathjax/latest/MathJax.js?config=TeX-AMS-MML_HTMLorMML\">\\n</script>\\n\\n\\n<div id=\"wrap\">\\n  <div id=\"header\">\\n    <div id=\"l\"><a href=\"/index\"><img src=\"/static_files/index_files/logo.jpg\"></a></div>\\n    <div id=\"r\">\\n      <div id=\"stats\">14,197,122 images, 21841 synsets indexed&nbsp;&nbsp;&nbsp;&nbsp;</div>\\n      <ul id=\"sddm\">\\n        <li><a href=\"/index\">&nbsp;Home<sup>&nbsp;&nbsp;</sup></a>\\n        </li>\\n        <li><a href=\"/download\" onmouseover=\"mopen(&#39;download&#39;)\" onmouseout=\"mclosetime()\">&nbsp;Download<sup>&nbsp;&nbsp;</sup></a>\\n        </li>\\n        <li><a href=\"/challenges/LSVRC/index\" onmouseover=\"mopen(&#39;challenge&#39;)\" onmouseout=\"mclosetime()\">&nbsp;Challenges<sup>&nbsp;&nbsp;</sup></a>\\n        </li>\\n<!--        <li><a href=\"projects\">&nbsp;&nbsp;Projects<sup>&nbsp;&nbsp;</sup></a>-->\\n<!--        <li><a href=\"about-people\">&nbsp;&nbsp;People<sup>&nbsp;&nbsp;</sup></a> -->\\n        <li><a href=\"/about\" onmouseover=\"mopen(&#39;overview&#39;)\" onmouseout=\"mclosetime()\">&nbsp;&nbsp;About<sup>&nbsp;&nbsp;</sup></a>\\n</li>\\n      </ul>\\n    </div>\\n  </div>\\n  <div id=\"top\" >\\n    <div id=\"topi\">\\n      Not logged in. <a href=\"/login\">Login</a> | <a href=\"/signup\">Signup</a>    </div>\\n  </div>\\n</div><h3>\\nOops! \\n</h3>\\n\\n\\n\\n<br clear=\"all\">\\n<div class=\"hr\"></div>\\nThe URL is not valid.\\n\\n<br clear=\"all\">\\n\\n<p>\\n\\n\\t\\t      </div> \\n\\t\\t    <div class=\"roundedcornr_bottom_413229\"><div></div></div> \\n\\t\\t</div><!--/end rounded corner box-->\\n\\t</div><!--/main-->\\n\\t<div class=\"roundedcornr_box_823035\">\\n\\t   <div class=\"roundedcornr_top_823035\"><div></div></div>\\n\\t      <div class=\"roundedcornr_content_823035\">\\n\\t\\t       \\n<script type=\"text/javascript\"> function showemail(d,u)\\n{\\n  var email = u + \"@\" + d;\\n  document.write(\"<a href=mailto:\"+email+\">\"+email+\"</a>\");\\n}\\n</script>\\n<div id=\"footer\">\\n<p> &copy; 2020 <a href=\"http://vision.stanford.edu/\">Stanford Vision Lab, </a><a href=\"http://www.stanford.edu\">Stanford University</a>, <a href=\"http://www.princeton.edu\">Princeton University</a> &nbsp; <script type=\"text/javascript\">showemail(\\'image-net.org\\',\\'support\\')</script> &nbsp; &nbsp;<a href=\"https://uit.stanford.edu/security/copyright-infringement\">Copyright infringement</a> </p>\\n</div>\\n<!--footer-->\\n\\n\\t      </div>\\n\\t   <div class=\"roundedcornr_bottom_823035\"><div></div></div>\\n\\t</div><!--/end rounded corner box-->\\n\\n</div><!--/wrap-->\\n<script type=\"text/javascript\">\\n\\t\\t       var gaJsHost = ((\"https:\" == document.location.protocol) ? \"https://ssl.\" : \"http://www.\");\\ndocument.write(unescape(\"%3Cscript src=\\'\" + gaJsHost + \"google-analytics.com/ga.js\\' type=\\'text/javascript\\'%3E%3C/script%3E\"));\\n</script>\\n<script type=\"text/javascript\">\\n  try {\\n  var pageTracker = _gat._getTracker(\"UA-7472388-1\");\\n  pageTracker._trackPageview();\\n} catch(err) {}</script>\\n</body>\\n</html>\\n'\n"
     ]
    },
    {
     "ename": "Exception",
     "evalue": "check",
     "output_type": "error",
     "traceback": [
      "\u001b[1;31m---------------------------------------------------------------------------\u001b[0m",
      "\u001b[1;31mException\u001b[0m                                 Traceback (most recent call last)",
      "\u001b[1;32m<ipython-input-2-aed1aea29601>\u001b[0m in \u001b[0;36m<module>\u001b[1;34m\u001b[0m\n\u001b[1;32m----> 1\u001b[1;33m \u001b[0mimagenet_db_build\u001b[0m\u001b[1;33m(\u001b[0m\u001b[0mfresh\u001b[0m\u001b[1;33m=\u001b[0m\u001b[1;32mTrue\u001b[0m\u001b[1;33m)\u001b[0m\u001b[1;33m\u001b[0m\u001b[1;33m\u001b[0m\u001b[0m\n\u001b[0m",
      "\u001b[1;32mC:\\github\\Memehub-Local\\Memehub-AI\\src\\trainers\\databuilders\\imagenet.py\u001b[0m in \u001b[0;36mimagenet_db_build\u001b[1;34m(fresh)\u001b[0m\n\u001b[0;32m     52\u001b[0m                 \u001b[0mtime\u001b[0m\u001b[1;33m.\u001b[0m\u001b[0msleep\u001b[0m\u001b[1;33m(\u001b[0m\u001b[1;36m5\u001b[0m\u001b[1;33m)\u001b[0m\u001b[1;33m\u001b[0m\u001b[1;33m\u001b[0m\u001b[0m\n\u001b[0;32m     53\u001b[0m         \u001b[0mprint\u001b[0m\u001b[1;33m(\u001b[0m\u001b[0mresp\u001b[0m\u001b[1;33m.\u001b[0m\u001b[0mcontent\u001b[0m\u001b[1;33m)\u001b[0m\u001b[1;33m\u001b[0m\u001b[1;33m\u001b[0m\u001b[0m\n\u001b[1;32m---> 54\u001b[1;33m         \u001b[1;32mraise\u001b[0m \u001b[0mException\u001b[0m\u001b[1;33m(\u001b[0m\u001b[1;34m\"check\"\u001b[0m\u001b[1;33m)\u001b[0m\u001b[1;33m\u001b[0m\u001b[1;33m\u001b[0m\u001b[0m\n\u001b[0m\u001b[0;32m     55\u001b[0m         \u001b[1;32mfor\u001b[0m \u001b[0murl\u001b[0m \u001b[1;32min\u001b[0m \u001b[0mresp\u001b[0m\u001b[1;33m.\u001b[0m\u001b[0mcontent\u001b[0m\u001b[1;33m.\u001b[0m\u001b[0msplitlines\u001b[0m\u001b[1;33m(\u001b[0m\u001b[1;33m)\u001b[0m\u001b[1;33m:\u001b[0m\u001b[1;33m\u001b[0m\u001b[1;33m\u001b[0m\u001b[0m\n\u001b[0;32m     56\u001b[0m             \u001b[0murl\u001b[0m \u001b[1;33m=\u001b[0m \u001b[0murl\u001b[0m\u001b[1;33m.\u001b[0m\u001b[0mdecode\u001b[0m\u001b[1;33m(\u001b[0m\u001b[1;34m\"utf-8\"\u001b[0m\u001b[1;33m)\u001b[0m\u001b[1;33m\u001b[0m\u001b[1;33m\u001b[0m\u001b[0m\n",
      "\u001b[1;31mException\u001b[0m: check"
     ]
    }
   ],
   "source": [
    "imagenet_db_build(fresh=True)"
   ]
  },
  {
   "cell_type": "code",
   "execution_count": null,
   "metadata": {},
   "outputs": [],
   "source": []
  }
 ],
 "metadata": {
  "kernelspec": {
   "display_name": "mh-ai",
   "language": "python",
   "name": "mh-ai"
  },
  "language_info": {
   "codemirror_mode": {
    "name": "ipython",
    "version": 3
   },
   "file_extension": ".py",
   "mimetype": "text/x-python",
   "name": "python",
   "nbconvert_exporter": "python",
   "pygments_lexer": "ipython3",
   "version": "3.8.5"
  }
 },
 "nbformat": 4,
 "nbformat_minor": 4
}
