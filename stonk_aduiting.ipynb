{
 "cells": [
  {
   "cell_type": "code",
   "execution_count": null,
   "id": "preceding-galaxy",
   "metadata": {},
   "outputs": [],
   "source": [
    "from src.stonks.auditor import Auditor"
   ]
  },
  {
   "cell_type": "code",
   "execution_count": null,
   "id": "blind-adoption",
   "metadata": {},
   "outputs": [],
   "source": [
    "auditor=Auditor()"
   ]
  },
  {
   "cell_type": "code",
   "execution_count": null,
   "id": "republican-reward",
   "metadata": {},
   "outputs": [],
   "source": [
    "auditor.run()"
   ]
  },
  {
   "cell_type": "code",
   "execution_count": null,
   "id": "medical-threshold",
   "metadata": {},
   "outputs": [],
   "source": [
    "# auditor.report()"
   ]
  },
  {
   "cell_type": "code",
   "execution_count": null,
   "id": "civilian-maryland",
   "metadata": {},
   "outputs": [],
   "source": [
    "auditor.set_official()"
   ]
  },
  {
   "cell_type": "code",
   "execution_count": 3,
   "id": "impressed-engineering",
   "metadata": {},
   "outputs": [],
   "source": [
    "from decouple import config\n",
    "from src.consta\n",
    "import boto3\n",
    "s3 = boto3.resource(\n",
    "    \"s3\", aws_access_key_id=config(\"AWS_ID\"), aws_secret_access_key=config(\"AWS_KEY\")\n",
    ")\n",
    "bucket = s3.Bucket(\"memehub\")"
   ]
  },
  {
   "cell_type": "code",
   "execution_count": null,
   "id": "inappropriate-oriental",
   "metadata": {},
   "outputs": [],
   "source": [
    "list(\n",
    "        bucket.objects.filter(Prefix=LOAD_MEME_CLF_REPO.format(\"jit\").replace(\"src\", \"memehub\"))\n",
    "    )"
   ]
  }
 ],
 "metadata": {
  "kernelspec": {
   "display_name": "Python 3",
   "language": "python",
   "name": "python3"
  },
  "language_info": {
   "codemirror_mode": {
    "name": "ipython",
    "version": 3
   },
   "file_extension": ".py",
   "mimetype": "text/x-python",
   "name": "python",
   "nbconvert_exporter": "python",
   "pygments_lexer": "ipython3",
   "version": "3.8.6"
  }
 },
 "nbformat": 4,
 "nbformat_minor": 5
}
