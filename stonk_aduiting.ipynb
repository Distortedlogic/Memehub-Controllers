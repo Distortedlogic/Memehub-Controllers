{
 "cells": [
  {
   "cell_type": "code",
   "execution_count": null,
   "id": "otherwise-healthcare",
   "metadata": {},
   "outputs": [],
   "source": [
    "from controller import APP\n",
    "from controller.reddit.stonks import reddit_stonks, print_market, audit_reddit_stonks, audit_is_template"
   ]
  },
  {
   "cell_type": "code",
   "execution_count": null,
   "id": "qualified-arrangement",
   "metadata": {},
   "outputs": [],
   "source": [
    "### %matplotlib inline\n",
    "with APP.app_context():\n",
    "    audit_reddit_stonks()"
   ]
  },
  {
   "cell_type": "code",
   "execution_count": null,
   "id": "grave-giant",
   "metadata": {},
   "outputs": [],
   "source": [
    "with APP.app_context():\n",
    "    print_market()"
   ]
  },
  {
   "cell_type": "code",
   "execution_count": null,
   "id": "collectible-accountability",
   "metadata": {},
   "outputs": [],
   "source": [
    "with APP.app_context():\n",
    "    audit_is_template()"
   ]
  },
  {
   "cell_type": "code",
   "execution_count": null,
   "id": "clear-liabilities",
   "metadata": {},
   "outputs": [],
   "source": []
  }
 ],
 "metadata": {
  "kernelspec": {
   "display_name": "Python 3",
   "language": "python",
   "name": "python3"
  },
  "language_info": {
   "codemirror_mode": {
    "name": "ipython",
    "version": 3
   },
   "file_extension": ".py",
   "mimetype": "text/x-python",
   "name": "python",
   "nbconvert_exporter": "python",
   "pygments_lexer": "ipython3",
   "version": "3.8.6"
  }
 },
 "nbformat": 4,
 "nbformat_minor": 5
}
