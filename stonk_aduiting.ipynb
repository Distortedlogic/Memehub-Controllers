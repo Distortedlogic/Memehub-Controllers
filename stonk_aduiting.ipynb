{
 "cells": [
  {
   "cell_type": "code",
   "execution_count": null,
   "id": "spatial-citation",
   "metadata": {},
   "outputs": [],
   "source": [
    "from src.stonks.auditor import Auditor"
   ]
  },
  {
   "cell_type": "code",
   "execution_count": null,
   "id": "christian-organ",
   "metadata": {},
   "outputs": [],
   "source": [
    "auditor=Auditor()"
   ]
  },
  {
   "cell_type": "code",
   "execution_count": null,
   "id": "later-madagascar",
   "metadata": {},
   "outputs": [],
   "source": [
    "auditor.run()"
   ]
  },
  {
   "cell_type": "code",
   "execution_count": null,
   "id": "conscious-george",
   "metadata": {},
   "outputs": [],
   "source": [
    "# auditor.report()"
   ]
  },
  {
   "cell_type": "code",
   "execution_count": null,
   "id": "furnished-diversity",
   "metadata": {},
   "outputs": [],
   "source": [
    "auditor.set_official()"
   ]
  },
  {
   "cell_type": "code",
   "execution_count": null,
   "id": "coral-kazakhstan",
   "metadata": {},
   "outputs": [],
   "source": []
  }
 ],
 "metadata": {
  "kernelspec": {
   "display_name": "Python 3",
   "language": "python",
   "name": "python3"
  },
  "language_info": {
   "codemirror_mode": {
    "name": "ipython",
    "version": 3
   },
   "file_extension": ".py",
   "mimetype": "text/x-python",
   "name": "python",
   "nbconvert_exporter": "python",
   "pygments_lexer": "ipython3",
   "version": "3.8.6"
  }
 },
 "nbformat": 4,
 "nbformat_minor": 5
}
