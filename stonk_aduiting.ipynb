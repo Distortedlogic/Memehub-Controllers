{
 "cells": [
  {
   "cell_type": "code",
   "execution_count": null,
   "id": "dedicated-reality",
   "metadata": {},
   "outputs": [],
   "source": [
    "from src.stonks.auditor import Auditor"
   ]
  },
  {
   "cell_type": "code",
   "execution_count": null,
   "id": "located-cycling",
   "metadata": {},
   "outputs": [],
   "source": [
    "auditor=Auditor()"
   ]
  },
  {
   "cell_type": "code",
   "execution_count": null,
   "id": "capable-segment",
   "metadata": {},
   "outputs": [],
   "source": [
    "auditor.run()"
   ]
  },
  {
   "cell_type": "code",
   "execution_count": null,
   "id": "interracial-terrorism",
   "metadata": {},
   "outputs": [],
   "source": [
    "# auditor.report()"
   ]
  },
  {
   "cell_type": "code",
   "execution_count": null,
   "id": "opposed-hurricane",
   "metadata": {},
   "outputs": [],
   "source": [
    "auditor.set_official()"
   ]
  },
  {
   "cell_type": "code",
   "execution_count": 4,
   "id": "indoor-lecture",
   "metadata": {},
   "outputs": [],
   "source": [
    "from decouple import config\n",
    "from src.constants import LOAD_MEME_CLF_REPO\n",
    "import boto3\n",
    "s3 = boto3.resource(\n",
    "    \"s3\", aws_access_key_id=config(\"AWS_ID\"), aws_secret_access_key=config(\"AWS_KEY\")\n",
    ")\n",
    "bucket = s3.Bucket(\"memehub\")"
   ]
  },
  {
   "cell_type": "code",
   "execution_count": 6,
   "id": "occupational-think",
   "metadata": {},
   "outputs": [
    {
     "name": "stdout",
     "output_type": "stream",
     "text": [
      "memehub/models/market/0.4.4/meme_clf/jit/dense.pt\n",
      "memehub/models/market/0.4.4/meme_clf/jit/features.pt\n"
     ]
    }
   ],
   "source": [
    "for item in list(\n",
    "        bucket.objects.filter(Prefix=LOAD_MEME_CLF_REPO.format(\"jit\").re\n",
    "    print(item.key)"
   ]
  },
  {
   "cell_type": "code",
   "execution_count": null,
   "id": "oriented-geology",
   "metadata": {},
   "outputs": [],
   "source": []
  }
 ],
 "metadata": {
  "kernelspec": {
   "display_name": "Python 3",
   "language": "python",
   "name": "python3"
  },
  "language_info": {
   "codemirror_mode": {
    "name": "ipython",
    "version": 3
   },
   "file_extension": ".py",
   "mimetype": "text/x-python",
   "name": "python",
   "nbconvert_exporter": "python",
   "pygments_lexer": "ipython3",
   "version": "3.8.6"
  }
 },
 "nbformat": 4,
 "nbformat_minor": 5
}
