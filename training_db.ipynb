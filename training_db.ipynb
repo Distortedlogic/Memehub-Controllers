{
 "cells": [
  {
   "cell_type": "code",
   "execution_count": 2,
   "metadata": {},
   "outputs": [],
   "source": [
    "from src.trainers.databuilders.imgflip_memes import fill_missing,print_names_missed,print_num_memes_in_folders,download_imgflip_memes, build_db_from_imgdir,merge_replicated_folder, fill_folders\n",
    "from src.trainers.databuilders.bootstrap import bootstrap_data"
   ]
  },
  {
   "cell_type": "code",
   "execution_count": null,
   "metadata": {},
   "outputs": [],
   "source": [
    "download_imgflip_memes(fresh=True)"
   ]
  },
  {
   "cell_type": "code",
   "execution_count": null,
   "metadata": {},
   "outputs": [],
   "source": [
    "print_names_missed()"
   ]
  },
  {
   "cell_type": "code",
   "execution_count": null,
   "metadata": {},
   "outputs": [],
   "source": [
    "fill_missing()"
   ]
  },
  {
   "cell_type": "code",
   "execution_count": null,
   "metadata": {},
   "outputs": [],
   "source": [
    "print_num_memes_in_folders()"
   ]
  },
  {
   "cell_type": "code",
   "execution_count": null,
   "metadata": {},
   "outputs": [],
   "source": [
    "download_imgflip_memes(fresh=True)"
   ]
  },
  {
   "cell_type": "code",
   "execution_count": null,
   "metadata": {},
   "outputs": [],
   "source": [
    "fill_folders()"
   ]
  },
  {
   "cell_type": "code",
   "execution_count": 3,
   "metadata": {},
   "outputs": [
    {
     "name": "stderr",
     "output_type": "stream",
     "text": [
      "100%|██████████████████████████████████████████████████████████████████████████████████████████████████| 99/99 [00:02<00:00, 33.98it/s]"
     ]
    },
    {
     "name": "stdout",
     "output_type": "stream",
     "text": [
      "bad folders ['no - yes', 'drake blank', 'drake meme', 'drake hotline approves', 'drake hotline bling', 'anime butterfly meme', 'butterfly man', 'is this a bird', 'is this butterfly', 'is this a blank', 'admiral ackbar relationship expert', 'its a trap', 'afraid to ask andy closeup', 'all my homies hate', 'all my homies love', 'aliens guy', 'woman pointing at cat', 'woman yelling at cat', 'woman yelling at cat', 'woman yelling at cat', 'smudge the cat', 'white cat table', 'angry lady cat', 'cat at table', 'astronaut meme always has been template', 'batman slaps trump', 'bernie sanders mittens', 'bernie sitting', 'i am once again asking', 'bernie i am once again asking for your support', 'thinking black guy', 'smart black guy', 'you cant if you dont', 'you cant if you dont', 'smart guy', 'guy tapping head', 'roll safe think about it', 'black guy pointing at head', 'black guy head tap', 'you cant if you dont', 'bender', 'brace yourselves x is coming', 'winter is coming', 'robotnik pressing red button', 'both buttons pressed', 'press button hard choice', 'woody and buzz lightyear everywhere widescreen', 'braveheart freedom', 'black guy stopping', 'buddy the elf excited', 'buff doge vs cheems', 'strong dog vs weak dog', 'kermit sipping tea', 'but thats none of my business neutral', 'car salesman slaps hood', 'car drift meme', 'car turning', 'he will never get a girlfriend', 'cereal guy spitting', 'cereal guys daddy', 'change my mind crowder', 'prove me wrong', 'charlie conspiracy always sunny in philidelphia', 'trying to explain', 'chuck norris approves', 'chuck norris finger', 'chuck norris flex', 'chuck norris guns', 'chuck norris laughing', 'chuck norris phone', 'chuck norris with guns', 'comic book guy worst ever', 'bugs bunny communist', 'our', 'computer guy facepalm', 'computer guy', 'crack', 'crack head', 'tyrone biggums the addict', 'dave chappelle yall got any more of crackhead', 'yall got any more of them', 'dave chappelle', 'yall got any more of that', 'oh yeah! oh no', 'black guy happy sad', 'peter parker cry', 'burning house girl', 'archer', 'virgin and chad', 'doge 2', 'make america great again', 'trump bill signing', 'trump lawn mower', 'donal trump birthday', 'donald trump approves', 'donald trump birthday', 'dr evil air quotes', 'dr evil laser', 'dr evil pinky', 'dr evil quotes', 'dwight schrute 2', 'black white arms', 'predator handshake', 'galaxy brain 3 brains', 'expanding brain 3 panels', 'expanding brain 5 panel', 'fancy winnie the pooh meme', 'tuxedo winnie the pooh 3 panel', 'tuxedo winnie the pooh 4 panel', 'tuxedo winnie the pooh', 'bestbetter blurst', 'black scientist finally xium', 'for dummies book', 'forever alone christmas', 'forever alone happy', 'blue futurama fry', 'not sure if- fry', 'gangnam style psy', 'psy horse dance', 'gangnam style2', 'gru diabolical plan fail', 'randy orton undertaker', 'zombie bad luck brian', 'grumpy cats father', 'grumpy cat bed', 'grumpy cat birthday', 'grumpy cat christmas', 'grumpy cat does not believe', 'grumpy cat halloween', 'grumpy cat happy', 'grumpy cat mistletoe', 'grumpy cat not amused', 'grumpy cat reverse', 'grumpy cat sky', 'grumpy cat star wars', 'grumpy cat table', 'grumpy cat top hat', 'homer simpson in bush - large', 'homer bush', 'here we go again', 'hes probably thinking about girls', 'thinking of other girls', 'joe biden 2020', 'sad joe biden', 'joe biden worries', 'krusty krab vs chum bucket blank', 'leonardo dicaprio django laugh', 'madea', 'marvel civil war 1', 'marvel civil war 2', 'side eye teddy', 'monkey puppet', 'hold fart', 'when you havent told anybody', 'neck vein guy', 'nick young', 'npc meme', 'phoebe teaching joey in friends', 'rick and carl 3', 'rick and carl long', 'rick and carl longer', 'samuel jackson glance', 'spider man double', 'spider man triple', 'spiderman camera', 'spiderman computer desk', 'spiderman hospital', 'spiderman mirror', 'spiderman pointing at spiderman', 'spiderman presentation', 'sexy railroad spiderman', 'what do we want 3', 'what do we want', 'sponge finna commit muder', 'spongebob stupid', 'empty stonks', 'stonks without stonks', 'the office congratulations', 'this is fine blank', 'timmys turner dad', 'triggered liberal', 'vince mcmahon reaction wglowing eyes', 'vince mcmahon reaction', 'vince mcmahon reaction', 'mcmahon', 'captain phillips - im the captain now', 'oprah you get a car everybody gets a car', 'oh no anyway', 'licking lips', 'black guy hiding behind tree', 'alien meeting suggestion', 'emergency meeting among us', 'among us meeting', 'party loner']\n"
     ]
    },
    {
     "name": "stderr",
     "output_type": "stream",
     "text": [
      "\n"
     ]
    }
   ],
   "source": [
    "merge_replicated_folder()"
   ]
  },
  {
   "cell_type": "code",
   "execution_count": null,
   "metadata": {},
   "outputs": [],
   "source": [
    "bootstrap_data()"
   ]
  },
  {
   "cell_type": "code",
   "execution_count": 4,
   "metadata": {},
   "outputs": [
    {
     "name": "stderr",
     "output_type": "stream",
     "text": [
      "100%|██████████████████████████████████████████████████████████████████████████████████████████| 19651/19651 [00:13<00:00, 1487.13it/s]\n",
      "0it [00:00, ?it/s]\n",
      "100%|████████████████████████████████████████████████████████████████████████████████████████████████| 494/494 [00:24<00:00, 20.25it/s]\n",
      "100%|████████████████████████████████████████████████████████████████████████████████████████████████████| 4/4 [00:18<00:00,  4.59s/it]\n",
      "100%|████████████████████████████████████████████████████████████████████████████████████████████████| 494/494 [00:24<00:00, 20.52it/s]\n"
     ]
    }
   ],
   "source": [
    "build_db_from_imgdir()"
   ]
  },
  {
   "cell_type": "code",
   "execution_count": null,
   "metadata": {},
   "outputs": [],
   "source": []
  }
 ],
 "metadata": {
  "kernelspec": {
   "display_name": "mh",
   "language": "python",
   "name": "mh"
  },
  "language_info": {
   "codemirror_mode": {
    "name": "ipython",
    "version": 3
   },
   "file_extension": ".py",
   "mimetype": "text/x-python",
   "name": "python",
   "nbconvert_exporter": "python",
   "pygments_lexer": "ipython3",
   "version": "3.8.5"
  }
 },
 "nbformat": 4,
 "nbformat_minor": 4
}
