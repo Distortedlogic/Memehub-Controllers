{
 "cells": [
  {
   "cell_type": "code",
   "execution_count": 11,
   "id": "straight-somalia",
   "metadata": {},
   "outputs": [],
   "source": [
    "from src.session import site_db\n",
    "from src.generated.models import RedditMeme\n",
    "from sqlalchemy import and_\n",
    "import pandas as pd\n",
    "import arrow"
   ]
  },
  {
   "cell_type": "code",
   "execution_count": 12,
   "id": "caring-scheme",
   "metadata": {},
   "outputs": [],
   "source": [
    "df = pd.read_sql(\n",
    "\n",
    "            site_db.query(RedditMeme.reddit_id, RedditMeme.upvotes)\n",
    "            .filter(\n",
    "                and_(\n",
    "\n",
    "                        RedditMeme.created_at\n",
    "                        < arrow.utcnow().shift(days=-1).datetime,\n",
    "                    \n",
    "                    \n",
    "                        RedditMeme.created_at\n",
    "                        > arrow.utcnow().shift(days=-2).datetime,\n",
    "                    \n",
    "                )\n",
    "            )\n",
    "            .statement,\n",
    "\n",
    "        site_db.bind,\n",
    "        columns=[\"reddit_id\", \"upvotes\"],\n",
    "    )"
   ]
  },
  {
   "cell_type": "code",
   "execution_count": 19,
   "id": "invisible-generator",
   "metadata": {},
   "outputs": [
    {
     "data": {
      "text/plain": [
       "reddit_id       mvgefn\n",
       "upvotes            101\n",
       "percentile    0.854419\n",
       "dtype: object"
      ]
     },
     "execution_count": 19,
     "metadata": {},
     "output_type": "execute_result"
    }
   ],
   "source": [
    "df[df[\"upvotes\"]>100].min()"
   ]
  },
  {
   "cell_type": "code",
   "execution_count": 14,
   "id": "finite-myrtle",
   "metadata": {},
   "outputs": [],
   "source": [
    "df[\"percentile\"] = df[\"upvotes\"].rank(pct=True)"
   ]
  },
  {
   "cell_type": "code",
   "execution_count": 16,
   "id": "horizontal-church",
   "metadata": {},
   "outputs": [
    {
     "data": {
      "text/plain": [
       "130617"
      ]
     },
     "execution_count": 16,
     "metadata": {},
     "output_type": "execute_result"
    }
   ],
   "source": [
    "df[\"upvotes\"].max()"
   ]
  },
  {
   "cell_type": "code",
   "execution_count": null,
   "id": "naval-skirt",
   "metadata": {},
   "outputs": [],
   "source": []
  }
 ],
 "metadata": {
  "kernelspec": {
   "display_name": "Python 3",
   "language": "python",
   "name": "python3"
  },
  "language_info": {
   "codemirror_mode": {
    "name": "ipython",
    "version": 3
   },
   "file_extension": ".py",
   "mimetype": "text/x-python",
   "name": "python",
   "nbconvert_exporter": "python",
   "pygments_lexer": "ipython3",
   "version": "3.8.6"
  }
 },
 "nbformat": 4,
 "nbformat_minor": 5
}
