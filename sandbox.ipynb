{
 "cells": [
  {
   "cell_type": "code",
   "execution_count": 1,
   "id": "friendly-administrator",
   "metadata": {},
   "outputs": [
    {
     "name": "stderr",
     "output_type": "stream",
     "text": [
      "Version 7.1.0 of praw is outdated. Version 7.2.0 was released Wednesday February 24, 2021.\n"
     ]
    }
   ],
   "source": [
    "from src.reddit.update_new import update_new"
   ]
  },
  {
   "cell_type": "code",
   "execution_count": 2,
   "id": "distributed-daniel",
   "metadata": {},
   "outputs": [
    {
     "name": "stdout",
     "output_type": "stream",
     "text": [
      "mvn8cl\n",
      "mvn7sr\n",
      "mvn6b2\n",
      "mvn6ao\n",
      "mvn417\n",
      "mvn3wa\n",
      "mvn3ja\n",
      "mvn32x\n",
      "mvn1w7\n",
      "mvn0n2\n",
      "mvmz21\n",
      "mvmxw4\n",
      "mvmwx0\n",
      "mvmwtf\n",
      "mvmv2l\n",
      "mvmuwm\n",
      "mvmuwc\n",
      "mvmtcp\n",
      "mvmt72\n",
      "mvms61\n",
      "mvmrtb\n",
      "mvmr3z\n",
      "mvmqfj\n",
      "mvmqdw\n",
      "mvmnh6\n",
      "mvmnax\n",
      "mvmly0\n",
      "mvmkle\n",
      "mvmkio\n",
      "mvmk6h\n",
      "mvmimj\n",
      "mvmhdd\n",
      "mvmh8w\n",
      "mvmgcu\n",
      "mvmfrt\n",
      "mvmfre\n",
      "mvmfqg\n",
      "mvmfi5\n",
      "mvmej0\n",
      "mvme6j\n",
      "mvmcfs\n",
      "mvmbp7\n",
      "mvmb9j\n",
      "mvma5b\n",
      "mvm7zc\n",
      "mvm6rv\n",
      "mvm6ed\n",
      "mvm3pv\n",
      "mvm3n8\n",
      "mvm2y7\n",
      "mvm2bs\n",
      "mvm28f\n",
      "mvlzvs\n",
      "mvlyvg\n",
      "mvlwg9\n",
      "mvlv5n\n",
      "mvlubc\n",
      "mvlu6f\n",
      "mvlt61\n",
      "mvlt0x\n",
      "mvlszg\n",
      "mvlrot\n",
      "mvlr62\n",
      "mvlq6i\n",
      "mvlpjz\n",
      "mvln06\n",
      "mvlmmc\n",
      "mvllqj\n",
      "mvlkln\n",
      "mvlk5q\n",
      "mvljh4\n",
      "mvliv4\n",
      "mvliik\n",
      "mvlhsk\n",
      "mvlhbl\n",
      "mvlhav\n",
      "mvlgre\n",
      "mvlek0\n",
      "mvlcfk\n",
      "mvlas8\n",
      "mvla1l\n",
      "mvl9sf\n",
      "mvl8sm\n",
      "mvl83u\n",
      "mvl7m6\n",
      "mvl7kv\n",
      "mvl79d\n",
      "mvl6n0\n",
      "mvl66a\n",
      "mvl5qy\n",
      "mvl5kq\n",
      "mvl5jg\n",
      "mvl3pz\n",
      "mvl3lc\n",
      "mvl34y\n",
      "mvl325\n",
      "mvl2vb\n",
      "mvl20o\n",
      "mvl0tq\n",
      "mvl056\n"
     ]
    }
   ],
   "source": [
    "update_new()"
   ]
  },
  {
   "cell_type": "code",
   "execution_count": null,
   "id": "premier-address",
   "metadata": {},
   "outputs": [],
   "source": []
  }
 ],
 "metadata": {
  "kernelspec": {
   "display_name": "Python 3",
   "language": "python",
   "name": "python3"
  },
  "language_info": {
   "codemirror_mode": {
    "name": "ipython",
    "version": 3
   },
   "file_extension": ".py",
   "mimetype": "text/x-python",
   "name": "python",
   "nbconvert_exporter": "python",
   "pygments_lexer": "ipython3",
   "version": "3.8.6"
  }
 },
 "nbformat": 4,
 "nbformat_minor": 5
}
