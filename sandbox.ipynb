{
 "cells": [
  {
   "cell_type": "code",
   "execution_count": null,
   "id": "pursuant-settlement",
   "metadata": {},
   "outputs": [],
   "source": [
    "from src.session import site_db\n",
    "from src.generated.models import RedditMeme\n",
    "from sqlalchemy import and_\n",
    "import pandas as pd\n",
    "import arrow"
   ]
  },
  {
   "cell_type": "code",
   "execution_count": null,
   "id": "imperial-elevation",
   "metadata": {},
   "outputs": [],
   "source": [
    "df = pd.read_sql(\n",
    "\n",
    "            site_db.query(RedditMeme.reddit_id, RedditMeme.upvotes)\n",
    "            .filter(\n",
    "                and_(\n",
    "\n",
    "                        RedditMeme.created_at\n",
    "                        < arrow.utcnow().shift(days=-1).datetime,\n",
    "                    \n",
    "                    \n",
    "                        RedditMeme.created_at\n",
    "                        > arrow.utcnow().shift(days=-2).datetime,\n",
    "                    \n",
    "                )\n",
    "            )\n",
    "            .statement,\n",
    "\n",
    "        site_db.bind,\n",
    "        columns=[\"reddit_id\", \"upvotes\"],\n",
    "    )"
   ]
  },
  {
   "cell_type": "code",
   "execution_count": null,
   "id": "informative-discussion",
   "metadata": {},
   "outputs": [],
   "source": [
    "df[df[\"upvotes\"]>100].min()"
   ]
  },
  {
   "cell_type": "code",
   "execution_count": null,
   "id": "general-butler",
   "metadata": {},
   "outputs": [],
   "source": [
    "df[\"percentile\"] = df[\"upvotes\"].rank(pct=True)"
   ]
  },
  {
   "cell_type": "code",
   "execution_count": null,
   "id": "governmental-weekly",
   "metadata": {},
   "outputs": [],
   "source": [
    "df[\"upvotes\"].max()"
   ]
  },
  {
   "cell_type": "code",
   "execution_count": null,
   "id": "chemical-humidity",
   "metadata": {},
   "outputs": [],
   "source": [
    "from src.reddit.percentile import calc_percentiles"
   ]
  },
  {
   "cell_type": "code",
   "execution_count": null,
   "id": "italic-delight",
   "metadata": {},
   "outputs": [],
   "source": [
    "calc_percentiles(reset=True)"
   ]
  },
  {
   "cell_type": "code",
   "execution_count": null,
   "id": "armed-liability",
   "metadata": {},
   "outputs": [],
   "source": []
  }
 ],
 "metadata": {
  "kernelspec": {
   "display_name": "Python 3",
   "language": "python",
   "name": "python3"
  },
  "language_info": {
   "codemirror_mode": {
    "name": "ipython",
    "version": 3
   },
   "file_extension": ".py",
   "mimetype": "text/x-python",
   "name": "python",
   "nbconvert_exporter": "python",
   "pygments_lexer": "ipython3",
   "version": "3.8.6"
  }
 },
 "nbformat": 4,
 "nbformat_minor": 5
}
