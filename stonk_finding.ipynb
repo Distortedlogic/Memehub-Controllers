{
 "cells": [
  {
   "cell_type": "code",
   "execution_count": 1,
   "id": "demographic-olympus",
   "metadata": {},
   "outputs": [],
   "source": [
    "from src.stonks.market import StonkMarket"
   ]
  },
  {
   "cell_type": "code",
   "execution_count": 2,
   "id": "neural-chart",
   "metadata": {},
   "outputs": [],
   "source": [
    "stonks=StonkMarket()"
   ]
  },
  {
   "cell_type": "code",
   "execution_count": 3,
   "id": "nutritional-chrome",
   "metadata": {},
   "outputs": [
    {
     "data": {
      "text/html": [
       "<div>\n",
       "<style scoped>\n",
       "    .dataframe tbody tr th:only-of-type {\n",
       "        vertical-align: middle;\n",
       "    }\n",
       "\n",
       "    .dataframe tbody tr th {\n",
       "        vertical-align: top;\n",
       "    }\n",
       "\n",
       "    .dataframe thead th {\n",
       "        text-align: right;\n",
       "    }\n",
       "</style>\n",
       "<table border=\"1\" class=\"dataframe\">\n",
       "  <thead>\n",
       "    <tr style=\"text-align: right;\">\n",
       "      <th></th>\n",
       "      <th>iteration</th>\n",
       "      <th>num_left</th>\n",
       "      <th>unofficial_memes_done</th>\n",
       "      <th>unofficial_memes_found</th>\n",
       "      <th>find_ratio</th>\n",
       "      <th>done_ratio</th>\n",
       "    </tr>\n",
       "  </thead>\n",
       "  <tbody>\n",
       "    <tr>\n",
       "      <th>0</th>\n",
       "      <td>42</td>\n",
       "      <td>1</td>\n",
       "      <td>262285</td>\n",
       "      <td>70497</td>\n",
       "      <td>0.26878</td>\n",
       "      <td>1.0</td>\n",
       "    </tr>\n",
       "  </tbody>\n",
       "</table>\n",
       "</div>"
      ],
      "text/plain": [
       "   iteration  num_left  unofficial_memes_done  unofficial_memes_found  \\\n",
       "0         42         1                 262285                   70497   \n",
       "\n",
       "   find_ratio  done_ratio  \n",
       "0     0.26878         1.0  "
      ]
     },
     "metadata": {},
     "output_type": "display_data"
    },
    {
     "name": "stdout",
     "output_type": "stream",
     "text": [
      "\n",
      "round_time: 5 seconds \n",
      "uptime: 36 minutes 56 seconds \n",
      "eta: \n",
      "\n"
     ]
    }
   ],
   "source": [
    "stonks.reddit_engine()"
   ]
  },
  {
   "cell_type": "code",
   "execution_count": null,
   "id": "black-nomination",
   "metadata": {},
   "outputs": [],
   "source": []
  }
 ],
 "metadata": {
  "kernelspec": {
   "display_name": "Python 3",
   "language": "python",
   "name": "python3"
  },
  "language_info": {
   "codemirror_mode": {
    "name": "ipython",
    "version": 3
   },
   "file_extension": ".py",
   "mimetype": "text/x-python",
   "name": "python",
   "nbconvert_exporter": "python",
   "pygments_lexer": "ipython3",
   "version": "3.8.6"
  }
 },
 "nbformat": 4,
 "nbformat_minor": 5
}
