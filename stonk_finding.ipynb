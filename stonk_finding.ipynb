{
 "cells": [
  {
   "cell_type": "code",
   "execution_count": null,
   "id": "metric-oasis",
   "metadata": {},
   "outputs": [],
   "source": [
    "from scripts.stonks import mh_reddit_stonks, mh_print_market, mh_audit_reddit_stonks"
   ]
  },
  {
   "cell_type": "code",
   "execution_count": null,
   "id": "unlike-dance",
   "metadata": {},
   "outputs": [],
   "source": [
    "%matplotlib inline\n",
    "mh_audit_reddit_stonks()"
   ]
  },
  {
   "cell_type": "code",
   "execution_count": null,
   "id": "sensitive-output",
   "metadata": {},
   "outputs": [],
   "source": [
    "mh_reddit_stonks()"
   ]
  },
  {
   "cell_type": "code",
   "execution_count": null,
   "id": "adjustable-parent",
   "metadata": {},
   "outputs": [],
   "source": [
    "mh_print_market()"
   ]
  },
  {
   "cell_type": "code",
   "execution_count": null,
   "id": "agricultural-casting",
   "metadata": {},
   "outputs": [],
   "source": []
  }
 ],
 "metadata": {
  "kernelspec": {
   "display_name": "Python 3",
   "language": "python",
   "name": "python3"
  },
  "language_info": {
   "codemirror_mode": {
    "name": "ipython",
    "version": 3
   },
   "file_extension": ".py",
   "mimetype": "text/x-python",
   "name": "python",
   "nbconvert_exporter": "python",
   "pygments_lexer": "ipython3",
   "version": "3.8.6"
  }
 },
 "nbformat": 4,
 "nbformat_minor": 5
}
