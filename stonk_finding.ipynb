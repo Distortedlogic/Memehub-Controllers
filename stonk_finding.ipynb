{
 "cells": [
  {
   "cell_type": "code",
   "execution_count": 1,
   "id": "elder-wheel",
   "metadata": {},
   "outputs": [],
   "source": [
    "from src.stonks.market import StonkMarket"
   ]
  },
  {
   "cell_type": "code",
   "execution_count": 2,
   "id": "suited-superintendent",
   "metadata": {},
   "outputs": [],
   "source": [
    "stonks=StonkMarket()"
   ]
  },
  {
   "cell_type": "code",
   "execution_count": null,
   "id": "powered-memorabilia",
   "metadata": {},
   "outputs": [
    {
     "data": {
      "text/html": [
       "<div>\n",
       "<style scoped>\n",
       "    .dataframe tbody tr th:only-of-type {\n",
       "        vertical-align: middle;\n",
       "    }\n",
       "\n",
       "    .dataframe tbody tr th {\n",
       "        vertical-align: top;\n",
       "    }\n",
       "\n",
       "    .dataframe thead th {\n",
       "        text-align: right;\n",
       "    }\n",
       "</style>\n",
       "<table border=\"1\" class=\"dataframe\">\n",
       "  <thead>\n",
       "    <tr style=\"text-align: right;\">\n",
       "      <th></th>\n",
       "      <th>bad_images</th>\n",
       "      <th>is_deleted</th>\n",
       "      <th>num_left</th>\n",
       "      <th>iteration</th>\n",
       "      <th>unofficial_memes_done</th>\n",
       "      <th>unofficial_memes_found</th>\n",
       "      <th>ratio</th>\n",
       "    </tr>\n",
       "  </thead>\n",
       "  <tbody>\n",
       "    <tr>\n",
       "      <th>0</th>\n",
       "      <td>0</td>\n",
       "      <td>0</td>\n",
       "      <td>29085</td>\n",
       "      <td>190</td>\n",
       "      <td>154676</td>\n",
       "      <td>38927</td>\n",
       "      <td>0.251668</td>\n",
       "    </tr>\n",
       "  </tbody>\n",
       "</table>\n",
       "</div>"
      ],
      "text/plain": [
       "   bad_images  is_deleted  num_left  iteration  unofficial_memes_done  \\\n",
       "0           0           0     29085        190                 154676   \n",
       "\n",
       "   unofficial_memes_found     ratio  \n",
       "0                   38927  0.251668  "
      ]
     },
     "metadata": {},
     "output_type": "display_data"
    },
    {
     "name": "stdout",
     "output_type": "stream",
     "text": [
      "\n",
      "round_time: 54 seconds \n",
      "uptime: 2 hours 57 minutes 59 seconds \n",
      "eta: 3 hours 31 minutes 44 seconds \n",
      "\n"
     ]
    }
   ],
   "source": [
    "stonks.reddit_engine()"
   ]
  },
  {
   "cell_type": "code",
   "execution_count": null,
   "id": "composed-literacy",
   "metadata": {},
   "outputs": [],
   "source": []
  }
 ],
 "metadata": {
  "kernelspec": {
   "display_name": "Python 3",
   "language": "python",
   "name": "python3"
  },
  "language_info": {
   "codemirror_mode": {
    "name": "ipython",
    "version": 3
   },
   "file_extension": ".py",
   "mimetype": "text/x-python",
   "name": "python",
   "nbconvert_exporter": "python",
   "pygments_lexer": "ipython3",
   "version": "3.8.6"
  }
 },
 "nbformat": 4,
 "nbformat_minor": 5
}
