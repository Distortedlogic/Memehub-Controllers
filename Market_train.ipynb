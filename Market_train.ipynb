{
 "cells": [
  {
   "cell_type": "code",
   "execution_count": 1,
   "metadata": {},
   "outputs": [],
   "source": [
    "from src.trainers.market import MarketTrainer\n",
    "from src.utils.aws_s3 import load_all_to_aws"
   ]
  },
  {
   "cell_type": "code",
   "execution_count": 2,
   "metadata": {},
   "outputs": [],
   "source": [
    "stonks = MarketTrainer(fresh=True)"
   ]
  },
  {
   "cell_type": "code",
   "execution_count": null,
   "metadata": {},
   "outputs": [
    {
     "data": {
      "text/html": [
       "<div>\n",
       "<style scoped>\n",
       "    .dataframe tbody tr th:only-of-type {\n",
       "        vertical-align: middle;\n",
       "    }\n",
       "\n",
       "    .dataframe tbody tr th {\n",
       "        vertical-align: top;\n",
       "    }\n",
       "\n",
       "    .dataframe thead th {\n",
       "        text-align: right;\n",
       "    }\n",
       "</style>\n",
       "<table border=\"1\" class=\"dataframe\">\n",
       "  <thead>\n",
       "    <tr style=\"text-align: right;\">\n",
       "      <th></th>\n",
       "      <th>name</th>\n",
       "      <th>iteration</th>\n",
       "      <th>num_correct</th>\n",
       "      <th>current_acc</th>\n",
       "      <th>current_val_acc</th>\n",
       "      <th>patience</th>\n",
       "      <th>max_acc</th>\n",
       "      <th>max_val_acc</th>\n",
       "      <th>max_patience</th>\n",
       "      <th>min_loss</th>\n",
       "      <th>num_left</th>\n",
       "      <th>version</th>\n",
       "    </tr>\n",
       "  </thead>\n",
       "  <tbody>\n",
       "    <tr>\n",
       "      <th>0</th>\n",
       "      <td>big book small book</td>\n",
       "      <td>1</td>\n",
       "      <td>494/496</td>\n",
       "      <td>0.995968</td>\n",
       "      <td>0.995968</td>\n",
       "      <td>0</td>\n",
       "      <td>0.995968</td>\n",
       "      <td>0.995968</td>\n",
       "      <td>0</td>\n",
       "      <td>0.250797</td>\n",
       "      <td>9</td>\n",
       "      <td>0.3.0</td>\n",
       "    </tr>\n",
       "  </tbody>\n",
       "</table>\n",
       "</div>"
      ],
      "text/plain": [
       "                  name  iteration num_correct  current_acc  current_val_acc  \\\n",
       "0  big book small book          1     494/496     0.995968         0.995968   \n",
       "\n",
       "   patience   max_acc  max_val_acc  max_patience  min_loss  num_left version  \n",
       "0         0  0.995968     0.995968             0  0.250797         9   0.3.0  "
      ]
     },
     "metadata": {},
     "output_type": "display_data"
    },
    {
     "name": "stdout",
     "output_type": "stream",
     "text": [
      "\n",
      "num_names_done: 49/496\n",
      "market_uptime: 1 hour 49 minutes 17 seconds \n",
      "timestamp: 2021-03-19 14:44:29+00:00\n",
      "eta: 16 hours 32 minutes 49 seconds \n",
      "\n"
     ]
    }
   ],
   "source": [
    "stonks.train(test=False)"
   ]
  },
  {
   "cell_type": "code",
   "execution_count": null,
   "metadata": {},
   "outputs": [],
   "source": [
    "stonks.describe()"
   ]
  },
  {
   "cell_type": "code",
   "execution_count": null,
   "metadata": {},
   "outputs": [],
   "source": [
    "stonks.print_worst()"
   ]
  },
  {
   "cell_type": "code",
   "execution_count": null,
   "metadata": {},
   "outputs": [],
   "source": [
    "stonks.test_models()"
   ]
  },
  {
   "cell_type": "code",
   "execution_count": null,
   "metadata": {},
   "outputs": [],
   "source": [
    "load_all_to_aws(stonks.smd[\"name_acc\"].keys(), fresh=True)"
   ]
  },
  {
   "cell_type": "code",
   "execution_count": null,
   "metadata": {},
   "outputs": [],
   "source": []
  }
 ],
 "metadata": {
  "kernelspec": {
   "display_name": "mh-ai",
   "language": "python",
   "name": "mh-ai"
  },
  "language_info": {
   "codemirror_mode": {
    "name": "ipython",
    "version": 3
   },
   "file_extension": ".py",
   "mimetype": "text/x-python",
   "name": "python",
   "nbconvert_exporter": "python",
   "pygments_lexer": "ipython3",
   "version": "3.8.5"
  }
 },
 "nbformat": 4,
 "nbformat_minor": 4
}
