{
 "cells": [
  {
   "cell_type": "code",
   "execution_count": 1,
   "metadata": {},
   "outputs": [],
   "source": [
    "from src.trainers.market import MarketTrainer\n",
    "from src.utils.aws_s3 import load_all_to_aws"
   ]
  },
  {
   "cell_type": "code",
   "execution_count": 2,
   "metadata": {},
   "outputs": [
    {
     "name": "stdin",
     "output_type": "stream",
     "text": [
      "Want a fresh market? \n"
     ]
    }
   ],
   "source": [
    "stonks = MarketTrainer()"
   ]
  },
  {
   "cell_type": "code",
   "execution_count": 3,
   "metadata": {},
   "outputs": [
    {
     "data": {
      "text/html": [
       "<div>\n",
       "<style scoped>\n",
       "    .dataframe tbody tr th:only-of-type {\n",
       "        vertical-align: middle;\n",
       "    }\n",
       "\n",
       "    .dataframe tbody tr th {\n",
       "        vertical-align: top;\n",
       "    }\n",
       "\n",
       "    .dataframe thead th {\n",
       "        text-align: right;\n",
       "    }\n",
       "</style>\n",
       "<table border=\"1\" class=\"dataframe\">\n",
       "  <thead>\n",
       "    <tr style=\"text-align: right;\">\n",
       "      <th></th>\n",
       "      <th>name</th>\n",
       "      <th>iteration</th>\n",
       "      <th>num_correct</th>\n",
       "      <th>current_acc</th>\n",
       "      <th>current_val_acc</th>\n",
       "      <th>patience</th>\n",
       "      <th>max_acc</th>\n",
       "      <th>max_val_acc</th>\n",
       "      <th>max_patience</th>\n",
       "      <th>min_loss</th>\n",
       "      <th>num_left</th>\n",
       "      <th>version</th>\n",
       "    </tr>\n",
       "  </thead>\n",
       "  <tbody>\n",
       "    <tr>\n",
       "      <th>0</th>\n",
       "      <td>not_a_meme</td>\n",
       "      <td>22</td>\n",
       "      <td>660/665</td>\n",
       "      <td>0.992481</td>\n",
       "      <td>0.981707</td>\n",
       "      <td>0</td>\n",
       "      <td>0.992481</td>\n",
       "      <td>0.982249</td>\n",
       "      <td>5</td>\n",
       "      <td>0.102112</td>\n",
       "      <td>6</td>\n",
       "      <td>0.3.0</td>\n",
       "    </tr>\n",
       "  </tbody>\n",
       "</table>\n",
       "</div>"
      ],
      "text/plain": [
       "         name  iteration num_correct  current_acc  current_val_acc  patience  \\\n",
       "0  not_a_meme         22     660/665     0.992481         0.981707         0   \n",
       "\n",
       "    max_acc  max_val_acc  max_patience  min_loss  num_left version  \n",
       "0  0.992481     0.982249             5  0.102112         6   0.3.0  "
      ]
     },
     "metadata": {},
     "output_type": "display_data"
    },
    {
     "name": "stdout",
     "output_type": "stream",
     "text": [
      "\n",
      "num_names_done: 496/496\n",
      "round_time: 10 minutes 32 seconds \n",
      "market_uptime: 10 minutes 32 seconds \n",
      "timestamp: 08:22:12\n",
      "eta: \n",
      "\n"
     ]
    }
   ],
   "source": [
    "stonks.train(test=False)"
   ]
  },
  {
   "cell_type": "code",
   "execution_count": null,
   "metadata": {},
   "outputs": [],
   "source": [
    "stonks.describe()"
   ]
  },
  {
   "cell_type": "code",
   "execution_count": null,
   "metadata": {},
   "outputs": [],
   "source": [
    "stonks.print_worst()"
   ]
  },
  {
   "cell_type": "code",
   "execution_count": null,
   "metadata": {},
   "outputs": [],
   "source": [
    "stonks.test_models()"
   ]
  },
  {
   "cell_type": "code",
   "execution_count": null,
   "metadata": {},
   "outputs": [],
   "source": [
    "load_all_to_aws(stonks.smd[\"name_acc\"].keys(), fresh=True)"
   ]
  },
  {
   "cell_type": "code",
   "execution_count": null,
   "metadata": {},
   "outputs": [],
   "source": []
  }
 ],
 "metadata": {
  "kernelspec": {
   "display_name": "mh",
   "language": "python",
   "name": "mh"
  },
  "language_info": {
   "codemirror_mode": {
    "name": "ipython",
    "version": 3
   },
   "file_extension": ".py",
   "mimetype": "text/x-python",
   "name": "python",
   "nbconvert_exporter": "python",
   "pygments_lexer": "ipython3",
   "version": "3.8.5"
  }
 },
 "nbformat": 4,
 "nbformat_minor": 4
}
